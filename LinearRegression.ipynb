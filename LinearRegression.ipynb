{
  "nbformat": 4,
  "nbformat_minor": 0,
  "metadata": {
    "kernelspec": {
      "display_name": "Python 3",
      "language": "python",
      "name": "python3"
    },
    "language_info": {
      "codemirror_mode": {
        "name": "ipython",
        "version": 3
      },
      "file_extension": ".py",
      "mimetype": "text/x-python",
      "name": "python",
      "nbconvert_exporter": "python",
      "pygments_lexer": "ipython3",
      "version": "3.7.3"
    },
    "colab": {
      "name": "LinearRegression.ipynb",
      "provenance": [],
      "collapsed_sections": [],
      "include_colab_link": true
    }
  },
  "cells": [
    {
      "cell_type": "markdown",
      "metadata": {
        "id": "view-in-github",
        "colab_type": "text"
      },
      "source": [
        "<a href=\"https://colab.research.google.com/github/varalakshmiarcot/Prediction-Of-Sales-using-Linear-Regression/blob/master/LinearRegression.ipynb\" target=\"_parent\"><img src=\"https://colab.research.google.com/assets/colab-badge.svg\" alt=\"Open In Colab\"/></a>"
      ]
    },
    {
      "cell_type": "markdown",
      "metadata": {
        "id": "KQWqP2IW-w2g",
        "colab_type": "text"
      },
      "source": [
        "# LINEAR REGRESSION"
      ]
    },
    {
      "cell_type": "markdown",
      "metadata": {
        "id": "4BLBj-KR-w2i",
        "colab_type": "text"
      },
      "source": [
        "## Table of Content\n",
        "\n",
        "1. [Problem Statement](#section1)<br>\n",
        "2. [Data Loading and Description](#section2)<br>\n",
        "3. [Exploratory Data Analysis](#section3)<br>\n",
        "4. [Introduction to Linear Regression](#section4)<br>\n",
        "    - 4.1 [Linear Regression Equation with Errors in consideration](#section401)<br>\n",
        "        - 4.1.1 [Assumptions of Linear Regression](#sectionassumptions)<br>\n",
        "    - 4.2 [Preparing X and y using pandas](#section402)<br>\n",
        "    - 4.3 [Splitting X and y into training and test datasets](#section403)<br>\n",
        "    - 4.4 [Linear regression in scikit-learn](#section404)<br>\n",
        "    - 4.5 [Interpreting Model Coefficients](#section405)<br>\n",
        "    - 4.3 [Using the Model for Prediction](#section406)<br>\n",
        "5. [Model evaluation](#section5)<br>\n",
        "    - 5.1 [Model evaluation using metrics](#section501)<br>\n",
        "    - 5.2 [Model Evaluation using Rsquared value.](#section502)<br>\n",
        "6. [Feature Selection](#section6)<br>\n",
        "7. [Handling Categorical Features](#section7)<br>"
      ]
    },
    {
      "cell_type": "markdown",
      "metadata": {
        "id": "zA6jmugL-w2k",
        "colab_type": "text"
      },
      "source": [
        "<a id=section1></a>"
      ]
    },
    {
      "cell_type": "markdown",
      "metadata": {
        "id": "bBYb-X4Y-w2l",
        "colab_type": "text"
      },
      "source": [
        "## 1. Problem Statement\n",
        "\n",
        "__Sales__ (in thousands of units) for a particular product as a __function__ of __advertising budgets__ (in thousands of dollars) for _TV, radio, and newspaper media_. Suppose that in our role as __Data Scientist__ we are asked to suggest.\n",
        "\n",
        "- We want to find a function that given input budgets for TV, radio and newspaper __predicts the output sales__.\n",
        "\n",
        "- Which media __contribute__ to sales?\n",
        "\n",
        "- Visualize the __relationship__ between the _features_ and the _response_ using scatter plots."
      ]
    },
    {
      "cell_type": "markdown",
      "metadata": {
        "id": "G7Fyevk0-w2m",
        "colab_type": "text"
      },
      "source": [
        "<a id=section2></a>"
      ]
    },
    {
      "cell_type": "markdown",
      "metadata": {
        "id": "oGt5ttke-w2n",
        "colab_type": "text"
      },
      "source": [
        "## 2. Data Loading and Description\n",
        "\n",
        "The adverstising dataset captures sales revenue generated with respect to advertisement spends across multiple channles like radio, tv and newspaper.\n",
        "- TV        - Spend on TV Advertisements\n",
        "- Radio     - Spend on radio Advertisements\n",
        "- Newspaper - Spend on newspaper Advertisements\n",
        "- Sales     - Sales revenue generated"
      ]
    },
    {
      "cell_type": "markdown",
      "metadata": {
        "id": "ZVLiUWYu-w2o",
        "colab_type": "text"
      },
      "source": [
        "__Importing Packages__"
      ]
    },
    {
      "cell_type": "code",
      "metadata": {
        "id": "nBxX4m4V-w2p",
        "colab_type": "code",
        "colab": {}
      },
      "source": [
        "import pandas as pd\n",
        "import seaborn as sns\n",
        "import matplotlib.pyplot as plt\n",
        "\n",
        "\n",
        "from sklearn import metrics\n",
        "\n",
        "import numpy as np\n",
        "\n",
        "# allow plots to appear directly in the notebook\n",
        "%matplotlib inline"
      ],
      "execution_count": 0,
      "outputs": []
    },
    {
      "cell_type": "markdown",
      "metadata": {
        "id": "7mffcTfy-w2w",
        "colab_type": "text"
      },
      "source": [
        "#### Importing the Dataset"
      ]
    },
    {
      "cell_type": "code",
      "metadata": {
        "id": "8Y2E23qt-w2x",
        "colab_type": "code",
        "outputId": "ed4b95e2-31b5-4e39-904e-34c690b2b516",
        "colab": {
          "base_uri": "https://localhost:8080/",
          "height": 198
        }
      },
      "source": [
        "data = pd.read_csv('https://raw.githubusercontent.com/insaid2018/Term-2/master/CaseStudy/Advertising.csv', index_col=0)\n",
        "data.head()"
      ],
      "execution_count": 3,
      "outputs": [
        {
          "output_type": "execute_result",
          "data": {
            "text/html": [
              "<div>\n",
              "<style scoped>\n",
              "    .dataframe tbody tr th:only-of-type {\n",
              "        vertical-align: middle;\n",
              "    }\n",
              "\n",
              "    .dataframe tbody tr th {\n",
              "        vertical-align: top;\n",
              "    }\n",
              "\n",
              "    .dataframe thead th {\n",
              "        text-align: right;\n",
              "    }\n",
              "</style>\n",
              "<table border=\"1\" class=\"dataframe\">\n",
              "  <thead>\n",
              "    <tr style=\"text-align: right;\">\n",
              "      <th></th>\n",
              "      <th>TV</th>\n",
              "      <th>radio</th>\n",
              "      <th>newspaper</th>\n",
              "      <th>sales</th>\n",
              "    </tr>\n",
              "  </thead>\n",
              "  <tbody>\n",
              "    <tr>\n",
              "      <th>1</th>\n",
              "      <td>230.1</td>\n",
              "      <td>37.8</td>\n",
              "      <td>69.2</td>\n",
              "      <td>22.1</td>\n",
              "    </tr>\n",
              "    <tr>\n",
              "      <th>2</th>\n",
              "      <td>44.5</td>\n",
              "      <td>39.3</td>\n",
              "      <td>45.1</td>\n",
              "      <td>10.4</td>\n",
              "    </tr>\n",
              "    <tr>\n",
              "      <th>3</th>\n",
              "      <td>17.2</td>\n",
              "      <td>45.9</td>\n",
              "      <td>69.3</td>\n",
              "      <td>9.3</td>\n",
              "    </tr>\n",
              "    <tr>\n",
              "      <th>4</th>\n",
              "      <td>151.5</td>\n",
              "      <td>41.3</td>\n",
              "      <td>58.5</td>\n",
              "      <td>18.5</td>\n",
              "    </tr>\n",
              "    <tr>\n",
              "      <th>5</th>\n",
              "      <td>180.8</td>\n",
              "      <td>10.8</td>\n",
              "      <td>58.4</td>\n",
              "      <td>12.9</td>\n",
              "    </tr>\n",
              "  </tbody>\n",
              "</table>\n",
              "</div>"
            ],
            "text/plain": [
              "      TV  radio  newspaper  sales\n",
              "1  230.1   37.8       69.2   22.1\n",
              "2   44.5   39.3       45.1   10.4\n",
              "3   17.2   45.9       69.3    9.3\n",
              "4  151.5   41.3       58.5   18.5\n",
              "5  180.8   10.8       58.4   12.9"
            ]
          },
          "metadata": {
            "tags": []
          },
          "execution_count": 3
        }
      ]
    },
    {
      "cell_type": "markdown",
      "metadata": {
        "id": "H9xg0zZU-w25",
        "colab_type": "text"
      },
      "source": [
        "What are the **features**?\n",
        "- TV: advertising dollars spent on TV for a single product in a given market (in thousands of dollars)\n",
        "- Radio: advertising dollars spent on Radio\n",
        "- Newspaper: advertising dollars spent on Newspaper\n",
        "\n",
        "What is the **response**?\n",
        "- Sales: sales of a single product in a given market (in thousands of widgets)"
      ]
    },
    {
      "cell_type": "markdown",
      "metadata": {
        "id": "PEJgwVQT-w26",
        "colab_type": "text"
      },
      "source": [
        "<a id=section3></a>"
      ]
    },
    {
      "cell_type": "markdown",
      "metadata": {
        "id": "fpDkecJx-w27",
        "colab_type": "text"
      },
      "source": [
        "## 3. Exploratory Data Analysis"
      ]
    },
    {
      "cell_type": "code",
      "metadata": {
        "id": "nniiWE8m-w28",
        "colab_type": "code",
        "outputId": "716d602e-d79c-44c5-f04e-d1cded7da4a4",
        "colab": {
          "base_uri": "https://localhost:8080/",
          "height": 35
        }
      },
      "source": [
        "data.shape"
      ],
      "execution_count": 4,
      "outputs": [
        {
          "output_type": "execute_result",
          "data": {
            "text/plain": [
              "(200, 4)"
            ]
          },
          "metadata": {
            "tags": []
          },
          "execution_count": 4
        }
      ]
    },
    {
      "cell_type": "code",
      "metadata": {
        "id": "nRyaQaWA-w3B",
        "colab_type": "code",
        "outputId": "116c7781-3607-4e4c-ae26-a9f62fdcc4b4",
        "colab": {
          "base_uri": "https://localhost:8080/",
          "height": 217
        }
      },
      "source": [
        "data.info()"
      ],
      "execution_count": 5,
      "outputs": [
        {
          "output_type": "stream",
          "text": [
            "<class 'pandas.core.frame.DataFrame'>\n",
            "Int64Index: 200 entries, 1 to 200\n",
            "Data columns (total 4 columns):\n",
            " #   Column     Non-Null Count  Dtype  \n",
            "---  ------     --------------  -----  \n",
            " 0   TV         200 non-null    float64\n",
            " 1   radio      200 non-null    float64\n",
            " 2   newspaper  200 non-null    float64\n",
            " 3   sales      200 non-null    float64\n",
            "dtypes: float64(4)\n",
            "memory usage: 7.8 KB\n"
          ],
          "name": "stdout"
        }
      ]
    },
    {
      "cell_type": "code",
      "metadata": {
        "id": "VYaJu-2U-w3H",
        "colab_type": "code",
        "outputId": "55c56580-06b7-4543-ee98-70d65ea72d52",
        "colab": {
          "base_uri": "https://localhost:8080/",
          "height": 288
        }
      },
      "source": [
        "data.describe()"
      ],
      "execution_count": 6,
      "outputs": [
        {
          "output_type": "execute_result",
          "data": {
            "text/html": [
              "<div>\n",
              "<style scoped>\n",
              "    .dataframe tbody tr th:only-of-type {\n",
              "        vertical-align: middle;\n",
              "    }\n",
              "\n",
              "    .dataframe tbody tr th {\n",
              "        vertical-align: top;\n",
              "    }\n",
              "\n",
              "    .dataframe thead th {\n",
              "        text-align: right;\n",
              "    }\n",
              "</style>\n",
              "<table border=\"1\" class=\"dataframe\">\n",
              "  <thead>\n",
              "    <tr style=\"text-align: right;\">\n",
              "      <th></th>\n",
              "      <th>TV</th>\n",
              "      <th>radio</th>\n",
              "      <th>newspaper</th>\n",
              "      <th>sales</th>\n",
              "    </tr>\n",
              "  </thead>\n",
              "  <tbody>\n",
              "    <tr>\n",
              "      <th>count</th>\n",
              "      <td>200.000000</td>\n",
              "      <td>200.000000</td>\n",
              "      <td>200.000000</td>\n",
              "      <td>200.000000</td>\n",
              "    </tr>\n",
              "    <tr>\n",
              "      <th>mean</th>\n",
              "      <td>147.042500</td>\n",
              "      <td>23.264000</td>\n",
              "      <td>30.554000</td>\n",
              "      <td>14.022500</td>\n",
              "    </tr>\n",
              "    <tr>\n",
              "      <th>std</th>\n",
              "      <td>85.854236</td>\n",
              "      <td>14.846809</td>\n",
              "      <td>21.778621</td>\n",
              "      <td>5.217457</td>\n",
              "    </tr>\n",
              "    <tr>\n",
              "      <th>min</th>\n",
              "      <td>0.700000</td>\n",
              "      <td>0.000000</td>\n",
              "      <td>0.300000</td>\n",
              "      <td>1.600000</td>\n",
              "    </tr>\n",
              "    <tr>\n",
              "      <th>25%</th>\n",
              "      <td>74.375000</td>\n",
              "      <td>9.975000</td>\n",
              "      <td>12.750000</td>\n",
              "      <td>10.375000</td>\n",
              "    </tr>\n",
              "    <tr>\n",
              "      <th>50%</th>\n",
              "      <td>149.750000</td>\n",
              "      <td>22.900000</td>\n",
              "      <td>25.750000</td>\n",
              "      <td>12.900000</td>\n",
              "    </tr>\n",
              "    <tr>\n",
              "      <th>75%</th>\n",
              "      <td>218.825000</td>\n",
              "      <td>36.525000</td>\n",
              "      <td>45.100000</td>\n",
              "      <td>17.400000</td>\n",
              "    </tr>\n",
              "    <tr>\n",
              "      <th>max</th>\n",
              "      <td>296.400000</td>\n",
              "      <td>49.600000</td>\n",
              "      <td>114.000000</td>\n",
              "      <td>27.000000</td>\n",
              "    </tr>\n",
              "  </tbody>\n",
              "</table>\n",
              "</div>"
            ],
            "text/plain": [
              "               TV       radio   newspaper       sales\n",
              "count  200.000000  200.000000  200.000000  200.000000\n",
              "mean   147.042500   23.264000   30.554000   14.022500\n",
              "std     85.854236   14.846809   21.778621    5.217457\n",
              "min      0.700000    0.000000    0.300000    1.600000\n",
              "25%     74.375000    9.975000   12.750000   10.375000\n",
              "50%    149.750000   22.900000   25.750000   12.900000\n",
              "75%    218.825000   36.525000   45.100000   17.400000\n",
              "max    296.400000   49.600000  114.000000   27.000000"
            ]
          },
          "metadata": {
            "tags": []
          },
          "execution_count": 6
        }
      ]
    },
    {
      "cell_type": "markdown",
      "metadata": {
        "id": "JOOfswS9-w3N",
        "colab_type": "text"
      },
      "source": [
        "There are 200 **observations**, and thus 200 markets in the dataset."
      ]
    },
    {
      "cell_type": "markdown",
      "metadata": {
        "id": "JnXy4L4y-w3O",
        "colab_type": "text"
      },
      "source": [
        "__Distribution of Features__"
      ]
    },
    {
      "cell_type": "code",
      "metadata": {
        "id": "kniNIr76-w3P",
        "colab_type": "code",
        "outputId": "806a17f0-cc9c-4c70-861f-84e142300bed",
        "colab": {
          "base_uri": "https://localhost:8080/",
          "height": 460
        }
      },
      "source": [
        "f, axes = plt.subplots(2, 2, figsize=(7, 7), sharex=True)                                      # Set up the matplotlib figure\n",
        "sns.despine(left=True)\n",
        "\n",
        "sns.distplot(data.sales, color=\"b\", ax=axes[0, 0])\n",
        "\n",
        "sns.distplot(data.TV, color=\"r\", ax=axes[0, 1])\n",
        "\n",
        "sns.distplot(data.radio, color=\"g\", ax=axes[1, 0])\n",
        "\n",
        "sns.distplot(data.newspaper, color=\"m\", ax=axes[1, 1])"
      ],
      "execution_count": 8,
      "outputs": [
        {
          "output_type": "execute_result",
          "data": {
            "text/plain": [
              "<matplotlib.axes._subplots.AxesSubplot at 0x7f5345601b38>"
            ]
          },
          "metadata": {
            "tags": []
          },
          "execution_count": 8
        },
        {
          "output_type": "display_data",
          "data": {
            "image/png": "[encoded data removed]",
            "text/plain": [
              "<Figure size 504x504 with 4 Axes>"
            ]
          },
          "metadata": {
            "tags": [],
            "needs_background": "light"
          }
        }
      ]
    },
    {
      "cell_type": "markdown",
      "metadata": {
        "id": "ifANxelp-w3U",
        "colab_type": "text"
      },
      "source": [
        "__Observations__<br/>\n",
        "_Sales_ seems to be __normal distribution__. Spending on _newspaper advertisement_ seems to be __right skewed__. Most of the spends on _newspaper_ is __fairly low__ where are spend on _radio and tv_ seems be __uniform distribution__. Spends on _tv_ are __comparatively higher__ then spend on _radio and newspaper_."
      ]
    },
    {
      "cell_type": "markdown",
      "metadata": {
        "id": "mJUX1gsY-w3U",
        "colab_type": "text"
      },
      "source": [
        "### Is there a relationship between sales and spend various advertising channels?"
      ]
    },
    {
      "cell_type": "code",
      "metadata": {
        "id": "a3DgSMZ0-w3V",
        "colab_type": "code",
        "outputId": "04935f63-f2fd-416f-9ffe-1476111a6112",
        "colab": {
          "base_uri": "https://localhost:8080/",
          "height": 1000
        }
      },
      "source": [
        "JG1 = sns.jointplot(\"newspaper\", \"sales\", data=data, kind='reg')\n",
        "JG2 = sns.jointplot(\"radio\", \"sales\", data=data, kind='reg')\n",
        "JG3 = sns.jointplot(\"TV\", \"sales\", data=data, kind='reg')\n",
        "\n",
        "#subplots migration\n",
        "f = plt.figure()\n",
        "for J in [JG1, JG2,JG3]:\n",
        "    for A in J.fig.axes:\n",
        "        f._axstack.add(f._make_key(A), A)"
      ],
      "execution_count": 9,
      "outputs": [
        {
          "output_type": "display_data",
          "data": {
            "image/png": "[encoded data removed]",
            "text/plain": [
              "<Figure size 432x432 with 3 Axes>"
            ]
          },
          "metadata": {
            "tags": [],
            "needs_background": "light"
          }
        },
        {
          "output_type": "display_data",
          "data": {
            "image/png": "[encoded data removed]",
            "text/plain": [
              "<Figure size 432x432 with 3 Axes>"
            ]
          },
          "metadata": {
            "tags": [],
            "needs_background": "light"
          }
        },
        {
          "output_type": "display_data",
          "data": {
            "image/png": "[encoded data removed]",
            "text/plain": [
              "<Figure size 432x432 with 3 Axes>"
            ]
          },
          "metadata": {
            "tags": [],
            "needs_background": "light"
          }
        },
        {
          "output_type": "display_data",
          "data": {
            "image/png": "[encoded data removed]",
            "text/plain": [
              "<Figure size 432x288 with 9 Axes>"
            ]
          },
          "metadata": {
            "tags": [],
            "needs_background": "light"
          }
        }
      ]
    },
    {
      "cell_type": "markdown",
      "metadata": {
        "id": "5FWLLu1B-w3a",
        "colab_type": "text"
      },
      "source": [
        "__Observation__<br/>\n",
        "_Sales and spend on newpaper_ is __not__ highly correlaed where are _sales and spend on tv_ is __highly correlated__."
      ]
    },
    {
      "cell_type": "markdown",
      "metadata": {
        "id": "e6_ENAOG-w3b",
        "colab_type": "text"
      },
      "source": [
        "### Visualising Pairwise correlation"
      ]
    },
    {
      "cell_type": "code",
      "metadata": {
        "id": "hb8TTbtT-w3c",
        "colab_type": "code",
        "outputId": "5b330291-f6f5-47a0-b808-686a75dd8590",
        "colab": {
          "base_uri": "https://localhost:8080/",
          "height": 677
        }
      },
      "source": [
        "sns.pairplot(data, size = 2, aspect = 1.5)"
      ],
      "execution_count": 10,
      "outputs": [
        {
          "output_type": "stream",
          "text": [
            "/usr/local/lib/python3.6/dist-packages/seaborn/axisgrid.py:2079: UserWarning: The `size` parameter has been renamed to `height`; please update your code.\n",
            "  warnings.warn(msg, UserWarning)\n"
          ],
          "name": "stderr"
        },
        {
          "output_type": "execute_result",
          "data": {
            "text/plain": [
              "<seaborn.axisgrid.PairGrid at 0x7f5345ac3358>"
            ]
          },
          "metadata": {
            "tags": []
          },
          "execution_count": 10
        },
        {
          "output_type": "display_data",
          "data": {
            "image/png": "[encoded data removed]",
            "text/plain": [
              "<Figure size 864x576 with 20 Axes>"
            ]
          },
          "metadata": {
            "tags": [],
            "needs_background": "light"
          }
        }
      ]
    },
    {
      "cell_type": "code",
      "metadata": {
        "id": "T0100n7G-w3i",
        "colab_type": "code",
        "outputId": "616bf01c-1f4c-41db-dd66-fb306ccdf205",
        "colab": {
          "base_uri": "https://localhost:8080/",
          "height": 462
        }
      },
      "source": [
        "sns.pairplot(data, x_vars=['TV', 'radio', 'newspaper'], y_vars='sales', size=5, aspect=1, kind='reg')"
      ],
      "execution_count": 11,
      "outputs": [
        {
          "output_type": "stream",
          "text": [
            "/usr/local/lib/python3.6/dist-packages/seaborn/axisgrid.py:2079: UserWarning: The `size` parameter has been renamed to `height`; please update your code.\n",
            "  warnings.warn(msg, UserWarning)\n"
          ],
          "name": "stderr"
        },
        {
          "output_type": "execute_result",
          "data": {
            "text/plain": [
              "<seaborn.axisgrid.PairGrid at 0x7f5342724908>"
            ]
          },
          "metadata": {
            "tags": []
          },
          "execution_count": 11
        },
        {
          "output_type": "display_data",
          "data": {
            "image/png": "[encoded data removed]",
            "text/plain": [
              "<Figure size 1080x360 with 3 Axes>"
            ]
          },
          "metadata": {
            "tags": [],
            "needs_background": "light"
          }
        }
      ]
    },
    {
      "cell_type": "markdown",
      "metadata": {
        "id": "vaexeRFL-w3n",
        "colab_type": "text"
      },
      "source": [
        "__Observation__\n",
        "\n",
        "- Strong relationship between TV ads and sales\n",
        "- Weak relationship between Radio ads and sales\n",
        "- Very weak to no relationship between Newspaper ads and sales\n",
        "\n"
      ]
    },
    {
      "cell_type": "markdown",
      "metadata": {
        "id": "tlXuHq-X-w3o",
        "colab_type": "text"
      },
      "source": [
        "### Calculating and plotting heatmap correlation"
      ]
    },
    {
      "cell_type": "code",
      "metadata": {
        "id": "iYCEryJU-w3p",
        "colab_type": "code",
        "outputId": "fa9cdcda-293e-426e-91fc-3f9b70ab6685",
        "colab": {
          "base_uri": "https://localhost:8080/",
          "height": 168
        }
      },
      "source": [
        "data.corr()"
      ],
      "execution_count": 12,
      "outputs": [
        {
          "output_type": "execute_result",
          "data": {
            "text/html": [
              "<div>\n",
              "<style scoped>\n",
              "    .dataframe tbody tr th:only-of-type {\n",
              "        vertical-align: middle;\n",
              "    }\n",
              "\n",
              "    .dataframe tbody tr th {\n",
              "        vertical-align: top;\n",
              "    }\n",
              "\n",
              "    .dataframe thead th {\n",
              "        text-align: right;\n",
              "    }\n",
              "</style>\n",
              "<table border=\"1\" class=\"dataframe\">\n",
              "  <thead>\n",
              "    <tr style=\"text-align: right;\">\n",
              "      <th></th>\n",
              "      <th>TV</th>\n",
              "      <th>radio</th>\n",
              "      <th>newspaper</th>\n",
              "      <th>sales</th>\n",
              "    </tr>\n",
              "  </thead>\n",
              "  <tbody>\n",
              "    <tr>\n",
              "      <th>TV</th>\n",
              "      <td>1.000000</td>\n",
              "      <td>0.054809</td>\n",
              "      <td>0.056648</td>\n",
              "      <td>0.782224</td>\n",
              "    </tr>\n",
              "    <tr>\n",
              "      <th>radio</th>\n",
              "      <td>0.054809</td>\n",
              "      <td>1.000000</td>\n",
              "      <td>0.354104</td>\n",
              "      <td>0.576223</td>\n",
              "    </tr>\n",
              "    <tr>\n",
              "      <th>newspaper</th>\n",
              "      <td>0.056648</td>\n",
              "      <td>0.354104</td>\n",
              "      <td>1.000000</td>\n",
              "      <td>0.228299</td>\n",
              "    </tr>\n",
              "    <tr>\n",
              "      <th>sales</th>\n",
              "      <td>0.782224</td>\n",
              "      <td>0.576223</td>\n",
              "      <td>0.228299</td>\n",
              "      <td>1.000000</td>\n",
              "    </tr>\n",
              "  </tbody>\n",
              "</table>\n",
              "</div>"
            ],
            "text/plain": [
              "                 TV     radio  newspaper     sales\n",
              "TV         1.000000  0.054809   0.056648  0.782224\n",
              "radio      0.054809  1.000000   0.354104  0.576223\n",
              "newspaper  0.056648  0.354104   1.000000  0.228299\n",
              "sales      0.782224  0.576223   0.228299  1.000000"
            ]
          },
          "metadata": {
            "tags": []
          },
          "execution_count": 12
        }
      ]
    },
    {
      "cell_type": "code",
      "metadata": {
        "id": "RKY8zCw5-w3u",
        "colab_type": "code",
        "outputId": "2035c56e-da7f-43dd-9362-118e6f1f5fc2",
        "colab": {
          "base_uri": "https://localhost:8080/",
          "height": 269
        }
      },
      "source": [
        "sns.heatmap( data.corr(), annot=True );"
      ],
      "execution_count": 13,
      "outputs": [
        {
          "output_type": "display_data",
          "data": {
            "image/png": "[encoded data removed]",
            "text/plain": [
              "<Figure size 432x288 with 2 Axes>"
            ]
          },
          "metadata": {
            "tags": [],
            "needs_background": "light"
          }
        }
      ]
    },
    {
      "cell_type": "markdown",
      "metadata": {
        "id": "k81WOqIM-w3y",
        "colab_type": "text"
      },
      "source": [
        "__Observation__\n",
        "\n",
        "- The diagonal of the above matirx shows the auto-correlation of the variables. It is always 1. You can observe that the correlation between __TV and Sales is highest i.e. 0.78__ and then between __sales and radio i.e. 0.576__.\n",
        "\n",
        "- correlations can vary from -1 to +1. Closer to +1 means strong positive correlation and close -1 means strong negative correlation. Closer to 0 means not very strongly correlated. variables with __strong correlations__ are mostly probably candidates for __model builing__.\n"
      ]
    },
    {
      "cell_type": "markdown",
      "metadata": {
        "id": "pBQ9uP9h-w3z",
        "colab_type": "text"
      },
      "source": [
        "<a id=section4></a>"
      ]
    },
    {
      "cell_type": "markdown",
      "metadata": {
        "id": "uH7WMtf7-w30",
        "colab_type": "text"
      },
      "source": [
        "## 4. Introduction to Linear Regression\n",
        "\n",
        "__Linear regression__ is a _basic_ and _commonly_ used type of __predictive analysis__.  The overall idea of regression is to examine two things: \n",
        "- Does a set of __predictor variables__ do a good job in predicting an __outcome__ (dependent) variable?  \n",
        "- Which variables in particular are __significant predictors__ of the outcome variable, and in what way they do __impact__ the outcome variable?  \n",
        "\n",
        "These regression estimates are used to explain the __relationship between one dependent variable and one or more independent variables__.  The simplest form of the regression equation with one dependent and one independent variable is defined by the formula :<br/>\n",
        "$y = \\beta_0 + \\beta_1x$\n",
        "\n",
        "![image.png](attachment:image.png)\n",
        "\n",
        "What does each term represent?\n",
        "- $y$ is the response\n",
        "- $x$ is the feature\n",
        "- $\\beta_0$ is the intercept\n",
        "- $\\beta_1$ is the coefficient for x\n",
        "\n",
        "\n",
        "Three major uses for __regression analysis__ are: \n",
        "- determining the __strength__ of predictors,\n",
        "    - Typical questions are what is the strength of __relationship__ between _dose and effect_, _sales and marketing spending_, or _age and income_.\n",
        "- __forecasting__ an effect, and\n",
        "    - how much __additional sales income__ do I get for each additional $1000 spent on marketing?\n",
        "- __trend__ forecasting.\n",
        "    - what will the __price of house__ be in _6 months_?"
      ]
    },
    {
      "cell_type": "markdown",
      "metadata": {
        "id": "Twe8RSZC-w30",
        "colab_type": "text"
      },
      "source": [
        "<a id=section401></a>"
      ]
    },
    {
      "cell_type": "markdown",
      "metadata": {
        "id": "jECECA0V-w31",
        "colab_type": "text"
      },
      "source": [
        "### 4.1 Linear Regression Equation with Errors in consideration\n",
        "\n",
        "While taking errors into consideration the equation of linear regression is: \n",
        "![image.png](attachment:image.png)\n",
        "Generally speaking, coefficients are estimated using the **least squares criterion**, which means we are find the line (mathematically) which minimizes the **sum of squared residuals** (or \"sum of squared errors\"):\n"
      ]
    },
    {
      "cell_type": "markdown",
      "metadata": {
        "id": "KSQTo8hJ-w32",
        "colab_type": "text"
      },
      "source": [
        "What elements are present in the diagram?\n",
        "- The black dots are the **observed values** of x and y.\n",
        "- The blue line is our **least squares line**.\n",
        "- The red lines are the **residuals**, which are the distances between the observed values and the least squares line.\n",
        "![image.png](attachment:image.png)\n"
      ]
    },
    {
      "cell_type": "markdown",
      "metadata": {
        "id": "3V4EG3_V-w33",
        "colab_type": "text"
      },
      "source": [
        "How do the model coefficients relate to the least squares line?\n",
        "- $\\beta_0$ is the **intercept** (the value of $y$ when $x$ = 0)\n",
        "- $\\beta_1$ is the **slope** (the change in $y$ divided by change in $x$)\n",
        "\n",
        "Here is a graphical depiction of those calculations:\n",
        "![image.png](attachment:image.png)"
      ]
    },
    {
      "cell_type": "markdown",
      "metadata": {
        "id": "SoHUFoHw-w34",
        "colab_type": "text"
      },
      "source": [
        "<a id = sectionassumptions></a>"
      ]
    },
    {
      "cell_type": "markdown",
      "metadata": {
        "id": "zMnNX8-W-w35",
        "colab_type": "text"
      },
      "source": [
        "#### 4.1.1 Assumptions of Linear Regression"
      ]
    },
    {
      "cell_type": "markdown",
      "metadata": {
        "id": "jL9QrwBg-w35",
        "colab_type": "text"
      },
      "source": [
        "1. There should be a linear and additive relationship between dependent (response) variable and independent (predictor) variable(s). A linear relationship suggests that a change in response Y due to one unit change in X¹ is constant, regardless of the value of X¹. An additive relationship suggests that the effect of X¹ on Y is independent of other variables.\n",
        "2. There should be no correlation between the residual (error) terms. Absence of this phenomenon is known as Autocorrelation.\n",
        "3. The independent variables should not be correlated. Absence of this phenomenon is known as multicollinearity.\n",
        "4. The error terms must have constant variance. This phenomenon is known as homoskedasticity. The presence of non-constant variance is referred to heteroskedasticity.\n",
        "5. The error terms must be normally distributed."
      ]
    },
    {
      "cell_type": "markdown",
      "metadata": {
        "id": "DPExMQtD-w36",
        "colab_type": "text"
      },
      "source": [
        "<a id=section402></a>"
      ]
    },
    {
      "cell_type": "markdown",
      "metadata": {
        "id": "L_5-6qmQ-w37",
        "colab_type": "text"
      },
      "source": [
        "### 4.2 Preparing X and y using pandas"
      ]
    },
    {
      "cell_type": "markdown",
      "metadata": {
        "id": "Ub5d0YNZ-w38",
        "colab_type": "text"
      },
      "source": [
        "- __Standardization__. <br/>\n",
        "Standardize features by removing the _mean_ and scaling to _unit standard deviation_."
      ]
    },
    {
      "cell_type": "code",
      "metadata": {
        "id": "r_wlxfZm-w39",
        "colab_type": "code",
        "colab": {}
      },
      "source": [
        "from sklearn.preprocessing import StandardScaler\n",
        "scaler = StandardScaler().fit(data)\n",
        "data1 = scaler.transform(data)"
      ],
      "execution_count": 0,
      "outputs": []
    },
    {
      "cell_type": "code",
      "metadata": {
        "scrolled": true,
        "id": "z0s1YGS5-w4C",
        "colab_type": "code",
        "outputId": "57a0f5e5-ede3-4471-9bf0-25a37292efe6",
        "colab": {
          "base_uri": "https://localhost:8080/",
          "height": 198
        }
      },
      "source": [
        "data = pd.DataFrame(data1)\n",
        "data.head()"
      ],
      "execution_count": 15,
      "outputs": [
        {
          "output_type": "execute_result",
          "data": {
            "text/html": [
              "<div>\n",
              "<style scoped>\n",
              "    .dataframe tbody tr th:only-of-type {\n",
              "        vertical-align: middle;\n",
              "    }\n",
              "\n",
              "    .dataframe tbody tr th {\n",
              "        vertical-align: top;\n",
              "    }\n",
              "\n",
              "    .dataframe thead th {\n",
              "        text-align: right;\n",
              "    }\n",
              "</style>\n",
              "<table border=\"1\" class=\"dataframe\">\n",
              "  <thead>\n",
              "    <tr style=\"text-align: right;\">\n",
              "      <th></th>\n",
              "      <th>0</th>\n",
              "      <th>1</th>\n",
              "      <th>2</th>\n",
              "      <th>3</th>\n",
              "    </tr>\n",
              "  </thead>\n",
              "  <tbody>\n",
              "    <tr>\n",
              "      <th>0</th>\n",
              "      <td>0.969852</td>\n",
              "      <td>0.981522</td>\n",
              "      <td>1.778945</td>\n",
              "      <td>1.552053</td>\n",
              "    </tr>\n",
              "    <tr>\n",
              "      <th>1</th>\n",
              "      <td>-1.197376</td>\n",
              "      <td>1.082808</td>\n",
              "      <td>0.669579</td>\n",
              "      <td>-0.696046</td>\n",
              "    </tr>\n",
              "    <tr>\n",
              "      <th>2</th>\n",
              "      <td>-1.516155</td>\n",
              "      <td>1.528463</td>\n",
              "      <td>1.783549</td>\n",
              "      <td>-0.907406</td>\n",
              "    </tr>\n",
              "    <tr>\n",
              "      <th>3</th>\n",
              "      <td>0.052050</td>\n",
              "      <td>1.217855</td>\n",
              "      <td>1.286405</td>\n",
              "      <td>0.860330</td>\n",
              "    </tr>\n",
              "    <tr>\n",
              "      <th>4</th>\n",
              "      <td>0.394182</td>\n",
              "      <td>-0.841614</td>\n",
              "      <td>1.281802</td>\n",
              "      <td>-0.215683</td>\n",
              "    </tr>\n",
              "  </tbody>\n",
              "</table>\n",
              "</div>"
            ],
            "text/plain": [
              "          0         1         2         3\n",
              "0  0.969852  0.981522  1.778945  1.552053\n",
              "1 -1.197376  1.082808  0.669579 -0.696046\n",
              "2 -1.516155  1.528463  1.783549 -0.907406\n",
              "3  0.052050  1.217855  1.286405  0.860330\n",
              "4  0.394182 -0.841614  1.281802 -0.215683"
            ]
          },
          "metadata": {
            "tags": []
          },
          "execution_count": 15
        }
      ]
    },
    {
      "cell_type": "code",
      "metadata": {
        "id": "Ni03xxw3-w4H",
        "colab_type": "code",
        "outputId": "e4cbae6e-4fc5-4437-d66b-1f62037abcff",
        "colab": {
          "base_uri": "https://localhost:8080/",
          "height": 198
        }
      },
      "source": [
        "data.columns = ['TV','radio','newspaper','sales']\n",
        "data.head()"
      ],
      "execution_count": 16,
      "outputs": [
        {
          "output_type": "execute_result",
          "data": {
            "text/html": [
              "<div>\n",
              "<style scoped>\n",
              "    .dataframe tbody tr th:only-of-type {\n",
              "        vertical-align: middle;\n",
              "    }\n",
              "\n",
              "    .dataframe tbody tr th {\n",
              "        vertical-align: top;\n",
              "    }\n",
              "\n",
              "    .dataframe thead th {\n",
              "        text-align: right;\n",
              "    }\n",
              "</style>\n",
              "<table border=\"1\" class=\"dataframe\">\n",
              "  <thead>\n",
              "    <tr style=\"text-align: right;\">\n",
              "      <th></th>\n",
              "      <th>TV</th>\n",
              "      <th>radio</th>\n",
              "      <th>newspaper</th>\n",
              "      <th>sales</th>\n",
              "    </tr>\n",
              "  </thead>\n",
              "  <tbody>\n",
              "    <tr>\n",
              "      <th>0</th>\n",
              "      <td>0.969852</td>\n",
              "      <td>0.981522</td>\n",
              "      <td>1.778945</td>\n",
              "      <td>1.552053</td>\n",
              "    </tr>\n",
              "    <tr>\n",
              "      <th>1</th>\n",
              "      <td>-1.197376</td>\n",
              "      <td>1.082808</td>\n",
              "      <td>0.669579</td>\n",
              "      <td>-0.696046</td>\n",
              "    </tr>\n",
              "    <tr>\n",
              "      <th>2</th>\n",
              "      <td>-1.516155</td>\n",
              "      <td>1.528463</td>\n",
              "      <td>1.783549</td>\n",
              "      <td>-0.907406</td>\n",
              "    </tr>\n",
              "    <tr>\n",
              "      <th>3</th>\n",
              "      <td>0.052050</td>\n",
              "      <td>1.217855</td>\n",
              "      <td>1.286405</td>\n",
              "      <td>0.860330</td>\n",
              "    </tr>\n",
              "    <tr>\n",
              "      <th>4</th>\n",
              "      <td>0.394182</td>\n",
              "      <td>-0.841614</td>\n",
              "      <td>1.281802</td>\n",
              "      <td>-0.215683</td>\n",
              "    </tr>\n",
              "  </tbody>\n",
              "</table>\n",
              "</div>"
            ],
            "text/plain": [
              "         TV     radio  newspaper     sales\n",
              "0  0.969852  0.981522   1.778945  1.552053\n",
              "1 -1.197376  1.082808   0.669579 -0.696046\n",
              "2 -1.516155  1.528463   1.783549 -0.907406\n",
              "3  0.052050  1.217855   1.286405  0.860330\n",
              "4  0.394182 -0.841614   1.281802 -0.215683"
            ]
          },
          "metadata": {
            "tags": []
          },
          "execution_count": 16
        }
      ]
    },
    {
      "cell_type": "code",
      "metadata": {
        "id": "F2OA9ib0-w4L",
        "colab_type": "code",
        "colab": {}
      },
      "source": [
        "feature_cols = ['TV', 'radio', 'newspaper']                # create a Python list of feature names\n",
        "X = data[feature_cols]                                     # use the list to select a subset of the original DataFrame-+"
      ],
      "execution_count": 0,
      "outputs": []
    },
    {
      "cell_type": "markdown",
      "metadata": {
        "id": "E5FLuD3H-w4Q",
        "colab_type": "text"
      },
      "source": [
        "- Checking the type and shape of X."
      ]
    },
    {
      "cell_type": "code",
      "metadata": {
        "id": "qg2Q5OdH-w4R",
        "colab_type": "code",
        "outputId": "dd164a2c-e6c6-4393-f0bf-0b16420e74c4",
        "colab": {
          "base_uri": "https://localhost:8080/",
          "height": 54
        }
      },
      "source": [
        "print(type(X))\n",
        "print(X.shape)"
      ],
      "execution_count": 18,
      "outputs": [
        {
          "output_type": "stream",
          "text": [
            "<class 'pandas.core.frame.DataFrame'>\n",
            "(200, 3)\n"
          ],
          "name": "stdout"
        }
      ]
    },
    {
      "cell_type": "code",
      "metadata": {
        "id": "GyPeGAkw-w4V",
        "colab_type": "code",
        "outputId": "995140bc-d641-4e4a-9607-1e11028f95de",
        "colab": {
          "base_uri": "https://localhost:8080/",
          "height": 126
        }
      },
      "source": [
        "y = data.sales\n",
        "y.head()"
      ],
      "execution_count": 20,
      "outputs": [
        {
          "output_type": "execute_result",
          "data": {
            "text/plain": [
              "0    1.552053\n",
              "1   -0.696046\n",
              "2   -0.907406\n",
              "3    0.860330\n",
              "4   -0.215683\n",
              "Name: sales, dtype: float64"
            ]
          },
          "metadata": {
            "tags": []
          },
          "execution_count": 20
        }
      ]
    },
    {
      "cell_type": "markdown",
      "metadata": {
        "id": "S_Scdk4P-w4a",
        "colab_type": "text"
      },
      "source": [
        "- Check the type and shape of y"
      ]
    },
    {
      "cell_type": "code",
      "metadata": {
        "id": "_obpI_X8-w4a",
        "colab_type": "code",
        "outputId": "20520e34-bf9f-44cc-ebf5-6d6e1a9128fc",
        "colab": {
          "base_uri": "https://localhost:8080/",
          "height": 54
        }
      },
      "source": [
        "print(type(y))\n",
        "print(y.shape)"
      ],
      "execution_count": 21,
      "outputs": [
        {
          "output_type": "stream",
          "text": [
            "<class 'pandas.core.series.Series'>\n",
            "(200,)\n"
          ],
          "name": "stdout"
        }
      ]
    },
    {
      "cell_type": "markdown",
      "metadata": {
        "id": "RcI0dwFQ-w4i",
        "colab_type": "text"
      },
      "source": [
        "<a id=section403></a>"
      ]
    },
    {
      "cell_type": "markdown",
      "metadata": {
        "id": "bKaitw0D-w4j",
        "colab_type": "text"
      },
      "source": [
        "### 4.3 Splitting X and y into training and test datasets."
      ]
    },
    {
      "cell_type": "code",
      "metadata": {
        "id": "CWbc5GxC-w4k",
        "colab_type": "code",
        "colab": {}
      },
      "source": [
        "from sklearn.model_selection import train_test_split\n",
        "\n",
        "def split(X,y):\n",
        "    return train_test_split(X, y, test_size=0.20, random_state=1)"
      ],
      "execution_count": 0,
      "outputs": []
    },
    {
      "cell_type": "code",
      "metadata": {
        "id": "omeXuIDd-w4o",
        "colab_type": "code",
        "outputId": "4a39671c-25c4-4e7d-96f0-47c30098767a",
        "colab": {
          "base_uri": "https://localhost:8080/",
          "height": 145
        }
      },
      "source": [
        "X_train, X_test, y_train, y_test=split(X,y)\n",
        "print('Train cases as below')\n",
        "print('X_train shape: ',X_train.shape)\n",
        "print('y_train shape: ',y_train.shape)\n",
        "print('\\nTest cases as below')\n",
        "print('X_test shape: ',X_test.shape)\n",
        "print('y_test shape: ',y_test.shape)"
      ],
      "execution_count": 23,
      "outputs": [
        {
          "output_type": "stream",
          "text": [
            "Train cases as below\n",
            "X_train shape:  (160, 3)\n",
            "y_train shape:  (160,)\n",
            "\n",
            "Test cases as below\n",
            "X_test shape:  (40, 3)\n",
            "y_test shape:  (40,)\n"
          ],
          "name": "stdout"
        }
      ]
    },
    {
      "cell_type": "markdown",
      "metadata": {
        "id": "sg6d0X3u-w4s",
        "colab_type": "text"
      },
      "source": [
        "<a id=section404></a>"
      ]
    },
    {
      "cell_type": "markdown",
      "metadata": {
        "id": "-y-9SXLT-w4t",
        "colab_type": "text"
      },
      "source": [
        "### 4.4 Linear regression in scikit-learn"
      ]
    },
    {
      "cell_type": "markdown",
      "metadata": {
        "id": "_ky5J7pq-w4u",
        "colab_type": "text"
      },
      "source": [
        "To apply any machine learning algorithm on your dataset, basically there are 4 steps:\n",
        "1. Load the algorithm\n",
        "2. Instantiate and Fit the model to the training dataset\n",
        "3. Prediction on the test set\n",
        "4. Calculating Root mean square error \n",
        "The code block given below shows how these steps are carried out:<br/>\n",
        "\n",
        "``` from sklearn.linear_model import LinearRegression\n",
        "    linreg = LinearRegression()\n",
        "    linreg.fit(X_train, y_train) \n",
        "    RMSE_test = np.sqrt(metrics.mean_squared_error(y_test, y_pred_test))```"
      ]
    },
    {
      "cell_type": "code",
      "metadata": {
        "id": "sVbUsQxP-w4v",
        "colab_type": "code",
        "colab": {}
      },
      "source": [
        "def linear_reg( X, y, gridsearch = False):\n",
        "    \n",
        "    X_train, X_test, y_train, y_test = split(X,y)\n",
        "    \n",
        "    from sklearn.linear_model import LinearRegression\n",
        "    linreg = LinearRegression()\n",
        "    \n",
        "    if not(gridsearch):\n",
        "        linreg.fit(X_train, y_train) \n",
        "\n",
        "    else:\n",
        "        from sklearn.model_selection import GridSearchCV\n",
        "        parameters = {'normalize':[True,False], 'copy_X':[True, False]}\n",
        "        linreg = GridSearchCV(linreg,parameters, cv = 10,refit = True)\n",
        "        linreg.fit(X_train, y_train)                                                           # fit the model to the training data (learn the coefficients)\n",
        "        print(\"Mean cross-validated score of the best_estimator : \", linreg.best_score_)  \n",
        "        \n",
        "        y_pred_test = linreg.predict(X_test)                                                   # make predictions on the testing set\n",
        "\n",
        "        RMSE_test = np.sqrt(metrics.mean_squared_error(y_test, y_pred_test))                          # compute the RMSE of our predictions\n",
        "        print('RMSE for the test set is {}'.format(RMSE_test))\n",
        "\n",
        "    return linreg"
      ],
      "execution_count": 0,
      "outputs": []
    },
    {
      "cell_type": "markdown",
      "metadata": {
        "id": "HJUEyemP-w40",
        "colab_type": "text"
      },
      "source": [
        "### Linear Regression Model without GridSearcCV\n",
        "Note:  Linear Regression Model with GridSearcCV is implemented at Table of Contents: 8"
      ]
    },
    {
      "cell_type": "code",
      "metadata": {
        "id": "NO18chMr-w40",
        "colab_type": "code",
        "colab": {}
      },
      "source": [
        "X = data[feature_cols]  \n",
        "y = data.sales\n",
        "linreg = linear_reg(X,y)"
      ],
      "execution_count": 0,
      "outputs": []
    },
    {
      "cell_type": "markdown",
      "metadata": {
        "id": "fZPtqwcQ-w46",
        "colab_type": "text"
      },
      "source": [
        "<a id=section405></a>"
      ]
    },
    {
      "cell_type": "markdown",
      "metadata": {
        "id": "df94mbv9-w47",
        "colab_type": "text"
      },
      "source": [
        "### 4.5 Interpreting Model Coefficients"
      ]
    },
    {
      "cell_type": "code",
      "metadata": {
        "scrolled": false,
        "id": "wS1m2UZq-w48",
        "colab_type": "code",
        "outputId": "26746d72-be70-4fb3-f0db-27abcac7696b",
        "colab": {
          "base_uri": "https://localhost:8080/",
          "height": 54
        }
      },
      "source": [
        "print('Intercept:',linreg.intercept_)          # print the intercept \n",
        "print('Coefficients:',linreg.coef_)  "
      ],
      "execution_count": 26,
      "outputs": [
        {
          "output_type": "stream",
          "text": [
            "Intercept: 0.0011620874606385126\n",
            "Coefficients: [0.77081214 0.50806629 0.01079522]\n"
          ],
          "name": "stdout"
        }
      ]
    },
    {
      "cell_type": "markdown",
      "metadata": {
        "id": "QhrmVnjp-w5A",
        "colab_type": "text"
      },
      "source": [
        "Its hard to remember the order of the feature names, we so we are __zipping__ the features to pair the feature names with the coefficients"
      ]
    },
    {
      "cell_type": "code",
      "metadata": {
        "id": "Eg9fxAbl-w5B",
        "colab_type": "code",
        "colab": {}
      },
      "source": [
        "feature_cols.insert(0,'Intercept')\n",
        "coef = linreg.coef_.tolist()            \n",
        "coef.insert(0, linreg.intercept_)       "
      ],
      "execution_count": 0,
      "outputs": []
    },
    {
      "cell_type": "code",
      "metadata": {
        "scrolled": true,
        "id": "II1YsFaW-w5F",
        "colab_type": "code",
        "outputId": "6f82a20f-b640-4e18-8478-ba81ec45d230",
        "colab": {
          "base_uri": "https://localhost:8080/",
          "height": 90
        }
      },
      "source": [
        "eq1 = zip(feature_cols, coef)\n",
        "\n",
        "for c1,c2 in eq1:\n",
        "    print(c1,c2)"
      ],
      "execution_count": 28,
      "outputs": [
        {
          "output_type": "stream",
          "text": [
            "Intercept 0.0011620874606385126\n",
            "TV 0.7708121379125106\n",
            "radio 0.5080662902756101\n",
            "newspaper 0.010795215187608953\n"
          ],
          "name": "stdout"
        }
      ]
    },
    {
      "cell_type": "markdown",
      "metadata": {
        "id": "zC3YPg0V-w5K",
        "colab_type": "text"
      },
      "source": [
        "__y = 0.00116 + 0.7708 `*` TV + 0.508 `*` radio + 0.010 `*` newspaper__"
      ]
    },
    {
      "cell_type": "markdown",
      "metadata": {
        "id": "DDCfCYDh-w5K",
        "colab_type": "text"
      },
      "source": [
        "How do we interpret the TV coefficient (_0.77081_)\n",
        "- A \"unit\" increase in TV ad spending is **associated with** a _\"0.7708_ unit\" increase in Sales.\n",
        "- Or more clearly: An additional $1,000 spent on TV ads is **associated with** an increase in sales of 770.8 widgets.\n",
        "\n",
        "Important Notes:\n",
        "- This is a statement of __association__, not __causation__.\n",
        "- If an increase in TV ad spending was associated with a __decrease__ in sales,  β1  would be __negative.__"
      ]
    },
    {
      "cell_type": "markdown",
      "metadata": {
        "id": "yuGG0JP7-w5L",
        "colab_type": "text"
      },
      "source": [
        "<a id=section406></a>"
      ]
    },
    {
      "cell_type": "markdown",
      "metadata": {
        "id": "5hbI7Tvr-w5M",
        "colab_type": "text"
      },
      "source": [
        "### 4.6 Using the Model for Prediction"
      ]
    },
    {
      "cell_type": "code",
      "metadata": {
        "id": "OZ3eiVFm-w5N",
        "colab_type": "code",
        "colab": {}
      },
      "source": [
        "y_pred_train = linreg.predict(X_train)  "
      ],
      "execution_count": 0,
      "outputs": []
    },
    {
      "cell_type": "code",
      "metadata": {
        "id": "xROKcYT--w5S",
        "colab_type": "code",
        "colab": {}
      },
      "source": [
        "y_pred_test = linreg.predict(X_test)                                                           # make predictions on the testing set"
      ],
      "execution_count": 0,
      "outputs": []
    },
    {
      "cell_type": "markdown",
      "metadata": {
        "id": "ep-Ff_iW-w5Y",
        "colab_type": "text"
      },
      "source": [
        "- We need an evaluation metric in order to compare our predictions with the actual values."
      ]
    },
    {
      "cell_type": "markdown",
      "metadata": {
        "id": "47oTCiMK-w5Z",
        "colab_type": "text"
      },
      "source": [
        "<a id=section5></a>"
      ]
    },
    {
      "cell_type": "markdown",
      "metadata": {
        "id": "Esggt7Xm-w5a",
        "colab_type": "text"
      },
      "source": [
        "## 5. Model evaluation "
      ]
    },
    {
      "cell_type": "markdown",
      "metadata": {
        "id": "pykuGGxJ-w5b",
        "colab_type": "text"
      },
      "source": [
        "__Error__ is the _deviation_ of the values _predicted_ by the model with the _true_ values.<br/>\n",
        "For example, if a model predicts that the price of apple is Rs75/kg, but the actual price of apple is Rs100/kg, then the error in prediction will be Rs25/kg.<br/>\n",
        "Below are the types of error we will be calculating for our _linear regression model_:\n",
        "- Mean Absolute Error\n",
        "- Mean Squared Error\n",
        "- Root Mean Squared Error"
      ]
    },
    {
      "cell_type": "markdown",
      "metadata": {
        "id": "5c5TJWd9-w5c",
        "colab_type": "text"
      },
      "source": [
        "<a id=section501></a>"
      ]
    },
    {
      "cell_type": "markdown",
      "metadata": {
        "id": "5VVa-88V-w5d",
        "colab_type": "text"
      },
      "source": [
        "### 5.1 Model Evaluation using __metrics.__"
      ]
    },
    {
      "cell_type": "markdown",
      "metadata": {
        "id": "thpZeXvE-w5e",
        "colab_type": "text"
      },
      "source": [
        "__Mean Absolute Error__ (MAE) is the mean of the absolute value of the errors:\n",
        "$$\\frac 1n\\sum_{i=1}^n|y_i-\\hat{y}_i|$$\n",
        "Computing the MAE for our Sales predictions"
      ]
    },
    {
      "cell_type": "code",
      "metadata": {
        "id": "FoFRKSUZ-w5e",
        "colab_type": "code",
        "colab": {}
      },
      "source": [
        "MAE_train = metrics.mean_absolute_error(y_train, y_pred_train)\n",
        "MAE_test = metrics.mean_absolute_error(y_test, y_pred_test)"
      ],
      "execution_count": 0,
      "outputs": []
    },
    {
      "cell_type": "code",
      "metadata": {
        "scrolled": false,
        "id": "nXJ1MSZ_-w5k",
        "colab_type": "code",
        "outputId": "3bd7055e-9ee6-4ff3-de85-70def943f696",
        "colab": {
          "base_uri": "https://localhost:8080/",
          "height": 54
        }
      },
      "source": [
        "print('MAE for training set is {}'.format(MAE_train))\n",
        "print('MAE for test set is {}'.format(MAE_test))"
      ],
      "execution_count": 32,
      "outputs": [
        {
          "output_type": "stream",
          "text": [
            "MAE for training set is 0.2553322418777194\n",
            "MAE for test set is 0.19987243199696367\n"
          ],
          "name": "stdout"
        }
      ]
    },
    {
      "cell_type": "markdown",
      "metadata": {
        "id": "BLy7rtPj-w5n",
        "colab_type": "text"
      },
      "source": [
        "__Mean Squared Error__ (MSE) is the mean of the squared errors:\n",
        "$$\\frac 1n\\sum_{i=1}^n(y_i-\\hat{y}_i)^2$$\n",
        "\n",
        "Computing the MSE for our Sales predictions"
      ]
    },
    {
      "cell_type": "code",
      "metadata": {
        "id": "Wh6R7qam-w5o",
        "colab_type": "code",
        "colab": {}
      },
      "source": [
        "MSE_train = metrics.mean_squared_error(y_train, y_pred_train)\n",
        "MSE_test = metrics.mean_squared_error(y_test, y_pred_test)"
      ],
      "execution_count": 0,
      "outputs": []
    },
    {
      "cell_type": "code",
      "metadata": {
        "id": "eA54GYiM-w5s",
        "colab_type": "code",
        "outputId": "7655eae5-9845-4b40-fcdc-3b7dd54eeaae",
        "colab": {
          "base_uri": "https://localhost:8080/",
          "height": 54
        }
      },
      "source": [
        "print('MSE for training set is {}'.format(MSE_train))\n",
        "print('MSE for test set is {}'.format(MSE_test))"
      ],
      "execution_count": 34,
      "outputs": [
        {
          "output_type": "stream",
          "text": [
            "MSE for training set is 0.11138075570325356\n",
            "MSE for test set is 0.07353999839228295\n"
          ],
          "name": "stdout"
        }
      ]
    },
    {
      "cell_type": "markdown",
      "metadata": {
        "id": "kXMttdzh-w5y",
        "colab_type": "text"
      },
      "source": [
        "__Root Mean Squared Error__ (RMSE) is the square root of the mean of the squared errors:\n",
        "\n",
        "$$\\sqrt{\\frac 1n\\sum_{i=1}^n(y_i-\\hat{y}_i)^2}$$\n",
        "\n",
        "Computing the RMSE for our Sales predictions"
      ]
    },
    {
      "cell_type": "code",
      "metadata": {
        "id": "CZPjYP1R-w50",
        "colab_type": "code",
        "colab": {}
      },
      "source": [
        "RMSE_train = np.sqrt( metrics.mean_squared_error(y_train, y_pred_train))\n",
        "RMSE_test = np.sqrt(metrics.mean_squared_error(y_test, y_pred_test))"
      ],
      "execution_count": 0,
      "outputs": []
    },
    {
      "cell_type": "code",
      "metadata": {
        "id": "nmjSXNG9-w54",
        "colab_type": "code",
        "outputId": "55207044-f96a-47a9-e100-29c1b77d3384",
        "colab": {
          "base_uri": "https://localhost:8080/",
          "height": 54
        }
      },
      "source": [
        "print('RMSE for training set is {}'.format(RMSE_train))\n",
        "print('RMSE for test set is {}'.format(RMSE_test))"
      ],
      "execution_count": 36,
      "outputs": [
        {
          "output_type": "stream",
          "text": [
            "RMSE for training set is 0.33373755512865727\n",
            "RMSE for test set is 0.27118259234744946\n"
          ],
          "name": "stdout"
        }
      ]
    },
    {
      "cell_type": "markdown",
      "metadata": {
        "id": "GGMuBGVW-w58",
        "colab_type": "text"
      },
      "source": [
        "Comparing these metrics:\n",
        "\n",
        "- __MAE__ is the easiest to understand, because it's the __average error.__ \n",
        "- __MSE__ is more popular than MAE, because MSE \"punishes\" larger errors.\n",
        "- __RMSE__ is even more popular than MSE, because RMSE is _interpretable_ in the \"y\" units.\n",
        "    - Easier to put in context as it's the same units as our response variable."
      ]
    },
    {
      "cell_type": "markdown",
      "metadata": {
        "id": "qTvMU5-a-w59",
        "colab_type": "text"
      },
      "source": [
        "<a id=section502></a>"
      ]
    },
    {
      "cell_type": "markdown",
      "metadata": {
        "id": "d38WLf6S-w5-",
        "colab_type": "text"
      },
      "source": [
        "### 5.2 Model Evaluation using Rsquared value."
      ]
    },
    {
      "cell_type": "markdown",
      "metadata": {
        "id": "Bby1cyqp-w5_",
        "colab_type": "text"
      },
      "source": [
        "- There is one more method to evaluate linear regression model and that is by using the __Rsquared__ value.<br/>\n",
        "- R-squared is the **proportion of variance explained**, meaning the proportion of variance in the observed data that is explained by the model, or the reduction in error over the **null model**. (The null model just predicts the mean of the observed response, and thus it has an intercept and no slope.)\n",
        "\n",
        "- R-squared is between 0 and 1, and higher is better because it means that more variance is explained by the model. But there is one shortcoming of Rsquare method and that is **R-squared will always increase as you add more features to the model**, even if they are unrelated to the response. Thus, selecting the model with the highest R-squared is not a reliable approach for choosing the best linear model.\n",
        "\n",
        "There is alternative to R-squared called **adjusted R-squared** that penalizes model complexity (to control for overfitting)."
      ]
    },
    {
      "cell_type": "code",
      "metadata": {
        "id": "NJGfKAN6-w5_",
        "colab_type": "code",
        "outputId": "0ff4708d-a00f-4beb-8011-3a8169b31a20",
        "colab": {
          "base_uri": "https://localhost:8080/",
          "height": 35
        }
      },
      "source": [
        "yhat = linreg.predict(X_train)\n",
        "SS_Residual = sum((y_train-yhat)**2)\n",
        "SS_Total = sum((y_train-np.mean(y_train))**2)\n",
        "r_squared = 1 - (float(SS_Residual))/SS_Total\n",
        "adjusted_r_squared = 1 - (1-r_squared)*(len(y_train)-1)/(len(y_train)-X_train.shape[1]-1)\n",
        "print(r_squared, adjusted_r_squared)"
      ],
      "execution_count": 37,
      "outputs": [
        {
          "output_type": "stream",
          "text": [
            "0.8959372632325174 0.8939360567562197\n"
          ],
          "name": "stdout"
        }
      ]
    },
    {
      "cell_type": "code",
      "metadata": {
        "id": "6cQ5cegX-w6E",
        "colab_type": "code",
        "outputId": "5c371dc9-407c-48a9-e430-cf3c36a610f9",
        "colab": {
          "base_uri": "https://localhost:8080/",
          "height": 35
        }
      },
      "source": [
        "yhat = linreg.predict(X_test)\n",
        "SS_Residual = sum((y_test-yhat)**2)\n",
        "SS_Total = sum((y_test-np.mean(y_test))**2)\n",
        "r_squared = 1 - (float(SS_Residual))/SS_Total\n",
        "adjusted_r_squared = 1 - (1-r_squared)*(len(y_test)-1)/(len(y_test)-X_test.shape[1]-1)\n",
        "print(r_squared, adjusted_r_squared)"
      ],
      "execution_count": 38,
      "outputs": [
        {
          "output_type": "stream",
          "text": [
            "0.8927605914615385 0.8838239740833334\n"
          ],
          "name": "stdout"
        }
      ]
    },
    {
      "cell_type": "markdown",
      "metadata": {
        "id": "hd_BLdX2-w6J",
        "colab_type": "text"
      },
      "source": [
        "<a id=section6></a>"
      ]
    },
    {
      "cell_type": "markdown",
      "metadata": {
        "id": "PLz6LoTr-w6K",
        "colab_type": "text"
      },
      "source": [
        "## 6. Feature Selection\n",
        "\n",
        "At times some features do not contribute much to the accuracy of the model, in that case its better to discard those features.<br/> \n",
        "- Let's check whether __\"newspaper\"__ improve the quality of our predictions or not.<br/> \n",
        "To check this we are going to take all the features other than \"newspaper\" and see if the error (RMSE) is reducing or not.\n",
        "- Also Applying __gridsearch__ method for exhaustive search over specified parameter values of  estimator."
      ]
    },
    {
      "cell_type": "code",
      "metadata": {
        "id": "iXM4EiAp-w6L",
        "colab_type": "code",
        "outputId": "f3026655-5c47-4206-e122-ce282cab02b3",
        "colab": {
          "base_uri": "https://localhost:8080/",
          "height": 54
        }
      },
      "source": [
        "feature_cols = ['TV','radio']                                                          # create a Python list of feature names\n",
        "X = data[feature_cols]  \n",
        "y = data.sales\n",
        "linreg=linear_reg(X,y,gridsearch=True)"
      ],
      "execution_count": 39,
      "outputs": [
        {
          "output_type": "stream",
          "text": [
            "Mean cross-validated score of the best_estimator :  0.885792093530779\n",
            "RMSE for the test set is 0.26867523792457537\n"
          ],
          "name": "stdout"
        }
      ]
    },
    {
      "cell_type": "markdown",
      "metadata": {
        "id": "PVUV0KRm-w6S",
        "colab_type": "text"
      },
      "source": [
        "- _Before_ doing feature selection _RMSE_ for the test dataset was __0.271182__.<br/>\n",
        "- _After_ discarding 'newspaper' column, RMSE comes to be __0.268675__.<br/>\n",
        "    - As you can see there is __no significant improvement__ in the quality, therefore, the 'newspaper' column shouldn't be discarded. But if in some other case if there is significant decrease in the RMSE, then you must discard that feature.\n",
        "- Give a try to other __features__ and check the RMSE score for each one."
      ]
    },
    {
      "cell_type": "markdown",
      "metadata": {
        "id": "Dht-dxoT-w6S",
        "colab_type": "text"
      },
      "source": [
        "<a id=section7></a>"
      ]
    },
    {
      "cell_type": "markdown",
      "metadata": {
        "id": "G0-x7_Yi-w6T",
        "colab_type": "text"
      },
      "source": [
        "## 7.  Handling Categorical Features\n",
        "\n",
        "Let's create a new feature called **Area**, and randomly assign observations to be **rural, suburban, or urban** :"
      ]
    },
    {
      "cell_type": "code",
      "metadata": {
        "id": "lyDdWXG_-w6U",
        "colab_type": "code",
        "outputId": "9a7f8268-e4ec-4e53-d8b9-e581551e6919",
        "colab": {
          "base_uri": "https://localhost:8080/",
          "height": 198
        }
      },
      "source": [
        "np.random.seed(123456)                                                # set a seed for reproducibility\n",
        "nums = np.random.rand(len(data))\n",
        "mask_suburban = (nums > 0.33) & (nums < 0.66)                         # assign roughly one third of observations to each group\n",
        "mask_urban = nums > 0.66\n",
        "data['Area'] = 'rural'\n",
        "data.loc[mask_suburban, 'Area'] = 'suburban'\n",
        "data.loc[mask_urban, 'Area'] = 'urban'\n",
        "data.head()"
      ],
      "execution_count": 40,
      "outputs": [
        {
          "output_type": "execute_result",
          "data": {
            "text/html": [
              "<div>\n",
              "<style scoped>\n",
              "    .dataframe tbody tr th:only-of-type {\n",
              "        vertical-align: middle;\n",
              "    }\n",
              "\n",
              "    .dataframe tbody tr th {\n",
              "        vertical-align: top;\n",
              "    }\n",
              "\n",
              "    .dataframe thead th {\n",
              "        text-align: right;\n",
              "    }\n",
              "</style>\n",
              "<table border=\"1\" class=\"dataframe\">\n",
              "  <thead>\n",
              "    <tr style=\"text-align: right;\">\n",
              "      <th></th>\n",
              "      <th>TV</th>\n",
              "      <th>radio</th>\n",
              "      <th>newspaper</th>\n",
              "      <th>sales</th>\n",
              "      <th>Area</th>\n",
              "    </tr>\n",
              "  </thead>\n",
              "  <tbody>\n",
              "    <tr>\n",
              "      <th>0</th>\n",
              "      <td>0.969852</td>\n",
              "      <td>0.981522</td>\n",
              "      <td>1.778945</td>\n",
              "      <td>1.552053</td>\n",
              "      <td>rural</td>\n",
              "    </tr>\n",
              "    <tr>\n",
              "      <th>1</th>\n",
              "      <td>-1.197376</td>\n",
              "      <td>1.082808</td>\n",
              "      <td>0.669579</td>\n",
              "      <td>-0.696046</td>\n",
              "      <td>urban</td>\n",
              "    </tr>\n",
              "    <tr>\n",
              "      <th>2</th>\n",
              "      <td>-1.516155</td>\n",
              "      <td>1.528463</td>\n",
              "      <td>1.783549</td>\n",
              "      <td>-0.907406</td>\n",
              "      <td>rural</td>\n",
              "    </tr>\n",
              "    <tr>\n",
              "      <th>3</th>\n",
              "      <td>0.052050</td>\n",
              "      <td>1.217855</td>\n",
              "      <td>1.286405</td>\n",
              "      <td>0.860330</td>\n",
              "      <td>urban</td>\n",
              "    </tr>\n",
              "    <tr>\n",
              "      <th>4</th>\n",
              "      <td>0.394182</td>\n",
              "      <td>-0.841614</td>\n",
              "      <td>1.281802</td>\n",
              "      <td>-0.215683</td>\n",
              "      <td>suburban</td>\n",
              "    </tr>\n",
              "  </tbody>\n",
              "</table>\n",
              "</div>"
            ],
            "text/plain": [
              "         TV     radio  newspaper     sales      Area\n",
              "0  0.969852  0.981522   1.778945  1.552053     rural\n",
              "1 -1.197376  1.082808   0.669579 -0.696046     urban\n",
              "2 -1.516155  1.528463   1.783549 -0.907406     rural\n",
              "3  0.052050  1.217855   1.286405  0.860330     urban\n",
              "4  0.394182 -0.841614   1.281802 -0.215683  suburban"
            ]
          },
          "metadata": {
            "tags": []
          },
          "execution_count": 40
        }
      ]
    },
    {
      "cell_type": "markdown",
      "metadata": {
        "id": "685eKg7u-w6X",
        "colab_type": "text"
      },
      "source": [
        "We want to represent Area numerically, but we can't simply code it as:<br/>\n",
        "- 0 = rural,<br/>\n",
        "- 1 = suburban,<br/>\n",
        "- 2 = urban<br/>\n",
        "Because that would imply an **ordered relationship** between suburban and urban, and thus urban is somehow \"twice\" the suburban category.<br/> Note that if you do have ordered categories (i.e., strongly disagree, disagree, neutral, agree, strongly agree), you can use a single dummy variable to represent the categories numerically (such as 1, 2, 3, 4, 5).<br/>\n",
        "\n",
        "Anyway, our Area feature is unordered, so we have to create **additional dummy variables**. Let's explore how to do this using pandas:"
      ]
    },
    {
      "cell_type": "code",
      "metadata": {
        "id": "Xbze56Ge-w6Z",
        "colab_type": "code",
        "outputId": "7cec0f3d-429a-4a04-bf2a-9858d8a58c0a",
        "colab": {
          "base_uri": "https://localhost:8080/",
          "height": 198
        }
      },
      "source": [
        "area_dummies = pd.get_dummies(data.Area, prefix='Area')                           # create three dummy variables using get_dummies\n",
        "area_dummies.head()"
      ],
      "execution_count": 42,
      "outputs": [
        {
          "output_type": "execute_result",
          "data": {
            "text/html": [
              "<div>\n",
              "<style scoped>\n",
              "    .dataframe tbody tr th:only-of-type {\n",
              "        vertical-align: middle;\n",
              "    }\n",
              "\n",
              "    .dataframe tbody tr th {\n",
              "        vertical-align: top;\n",
              "    }\n",
              "\n",
              "    .dataframe thead th {\n",
              "        text-align: right;\n",
              "    }\n",
              "</style>\n",
              "<table border=\"1\" class=\"dataframe\">\n",
              "  <thead>\n",
              "    <tr style=\"text-align: right;\">\n",
              "      <th></th>\n",
              "      <th>Area_rural</th>\n",
              "      <th>Area_suburban</th>\n",
              "      <th>Area_urban</th>\n",
              "    </tr>\n",
              "  </thead>\n",
              "  <tbody>\n",
              "    <tr>\n",
              "      <th>0</th>\n",
              "      <td>1</td>\n",
              "      <td>0</td>\n",
              "      <td>0</td>\n",
              "    </tr>\n",
              "    <tr>\n",
              "      <th>1</th>\n",
              "      <td>0</td>\n",
              "      <td>0</td>\n",
              "      <td>1</td>\n",
              "    </tr>\n",
              "    <tr>\n",
              "      <th>2</th>\n",
              "      <td>1</td>\n",
              "      <td>0</td>\n",
              "      <td>0</td>\n",
              "    </tr>\n",
              "    <tr>\n",
              "      <th>3</th>\n",
              "      <td>0</td>\n",
              "      <td>0</td>\n",
              "      <td>1</td>\n",
              "    </tr>\n",
              "    <tr>\n",
              "      <th>4</th>\n",
              "      <td>0</td>\n",
              "      <td>1</td>\n",
              "      <td>0</td>\n",
              "    </tr>\n",
              "  </tbody>\n",
              "</table>\n",
              "</div>"
            ],
            "text/plain": [
              "   Area_rural  Area_suburban  Area_urban\n",
              "0           1              0           0\n",
              "1           0              0           1\n",
              "2           1              0           0\n",
              "3           0              0           1\n",
              "4           0              1           0"
            ]
          },
          "metadata": {
            "tags": []
          },
          "execution_count": 42
        }
      ]
    },
    {
      "cell_type": "markdown",
      "metadata": {
        "id": "zR7nTW-S-w6c",
        "colab_type": "text"
      },
      "source": [
        "However, we actually only need **two dummy variables, not three**. \n",
        "__Why???__\n",
        "Because two dummies captures all the \"information\" about the Area feature, and implicitly defines rural as the \"baseline level\".\n",
        "\n",
        "Let's see what that looks like:"
      ]
    },
    {
      "cell_type": "code",
      "metadata": {
        "id": "cM1-ZeIW-w6d",
        "colab_type": "code",
        "outputId": "41319886-d231-4f75-bb9c-68190b139086",
        "colab": {
          "base_uri": "https://localhost:8080/",
          "height": 198
        }
      },
      "source": [
        "area_dummies = pd.get_dummies(data.Area, prefix='Area').iloc[:, 1:]\n",
        "area_dummies.head()"
      ],
      "execution_count": 43,
      "outputs": [
        {
          "output_type": "execute_result",
          "data": {
            "text/html": [
              "<div>\n",
              "<style scoped>\n",
              "    .dataframe tbody tr th:only-of-type {\n",
              "        vertical-align: middle;\n",
              "    }\n",
              "\n",
              "    .dataframe tbody tr th {\n",
              "        vertical-align: top;\n",
              "    }\n",
              "\n",
              "    .dataframe thead th {\n",
              "        text-align: right;\n",
              "    }\n",
              "</style>\n",
              "<table border=\"1\" class=\"dataframe\">\n",
              "  <thead>\n",
              "    <tr style=\"text-align: right;\">\n",
              "      <th></th>\n",
              "      <th>Area_suburban</th>\n",
              "      <th>Area_urban</th>\n",
              "    </tr>\n",
              "  </thead>\n",
              "  <tbody>\n",
              "    <tr>\n",
              "      <th>0</th>\n",
              "      <td>0</td>\n",
              "      <td>0</td>\n",
              "    </tr>\n",
              "    <tr>\n",
              "      <th>1</th>\n",
              "      <td>0</td>\n",
              "      <td>1</td>\n",
              "    </tr>\n",
              "    <tr>\n",
              "      <th>2</th>\n",
              "      <td>0</td>\n",
              "      <td>0</td>\n",
              "    </tr>\n",
              "    <tr>\n",
              "      <th>3</th>\n",
              "      <td>0</td>\n",
              "      <td>1</td>\n",
              "    </tr>\n",
              "    <tr>\n",
              "      <th>4</th>\n",
              "      <td>1</td>\n",
              "      <td>0</td>\n",
              "    </tr>\n",
              "  </tbody>\n",
              "</table>\n",
              "</div>"
            ],
            "text/plain": [
              "   Area_suburban  Area_urban\n",
              "0              0           0\n",
              "1              0           1\n",
              "2              0           0\n",
              "3              0           1\n",
              "4              1           0"
            ]
          },
          "metadata": {
            "tags": []
          },
          "execution_count": 43
        }
      ]
    },
    {
      "cell_type": "markdown",
      "metadata": {
        "id": "8aJrKqsL-w6k",
        "colab_type": "text"
      },
      "source": [
        "Here is how we interpret the coding:\n",
        "- **rural** is coded as  Area_suburban = 0  and  Area_urban = 0\n",
        "- **suburban** is coded as  Area_suburban = 1  and  Area_urban = 0\n",
        "- **urban** is coded as  Area_suburban = 0  and  Area_urban = 1\n",
        "\n",
        "If this sounds confusing, think in general terms that why we need only __k-1 dummy variables__ if we have a categorical feature with __k \"levels\"__.\n",
        "\n",
        "Anyway, let's add these two new dummy variables onto the original DataFrame, and then include them in the linear regression model."
      ]
    },
    {
      "cell_type": "code",
      "metadata": {
        "id": "f7XEo4kR-w6l",
        "colab_type": "code",
        "outputId": "b9982b91-dda8-45f4-af8e-47b31fd0d257",
        "colab": {
          "base_uri": "https://localhost:8080/",
          "height": 198
        }
      },
      "source": [
        "# concatenate the dummy variable columns onto the DataFrame (axis=0 means rows, axis=1 means columns)\n",
        "data = pd.concat([data, area_dummies], axis=1)\n",
        "data.head()"
      ],
      "execution_count": 44,
      "outputs": [
        {
          "output_type": "execute_result",
          "data": {
            "text/html": [
              "<div>\n",
              "<style scoped>\n",
              "    .dataframe tbody tr th:only-of-type {\n",
              "        vertical-align: middle;\n",
              "    }\n",
              "\n",
              "    .dataframe tbody tr th {\n",
              "        vertical-align: top;\n",
              "    }\n",
              "\n",
              "    .dataframe thead th {\n",
              "        text-align: right;\n",
              "    }\n",
              "</style>\n",
              "<table border=\"1\" class=\"dataframe\">\n",
              "  <thead>\n",
              "    <tr style=\"text-align: right;\">\n",
              "      <th></th>\n",
              "      <th>TV</th>\n",
              "      <th>radio</th>\n",
              "      <th>newspaper</th>\n",
              "      <th>sales</th>\n",
              "      <th>Area</th>\n",
              "      <th>Area_suburban</th>\n",
              "      <th>Area_urban</th>\n",
              "    </tr>\n",
              "  </thead>\n",
              "  <tbody>\n",
              "    <tr>\n",
              "      <th>0</th>\n",
              "      <td>0.969852</td>\n",
              "      <td>0.981522</td>\n",
              "      <td>1.778945</td>\n",
              "      <td>1.552053</td>\n",
              "      <td>rural</td>\n",
              "      <td>0</td>\n",
              "      <td>0</td>\n",
              "    </tr>\n",
              "    <tr>\n",
              "      <th>1</th>\n",
              "      <td>-1.197376</td>\n",
              "      <td>1.082808</td>\n",
              "      <td>0.669579</td>\n",
              "      <td>-0.696046</td>\n",
              "      <td>urban</td>\n",
              "      <td>0</td>\n",
              "      <td>1</td>\n",
              "    </tr>\n",
              "    <tr>\n",
              "      <th>2</th>\n",
              "      <td>-1.516155</td>\n",
              "      <td>1.528463</td>\n",
              "      <td>1.783549</td>\n",
              "      <td>-0.907406</td>\n",
              "      <td>rural</td>\n",
              "      <td>0</td>\n",
              "      <td>0</td>\n",
              "    </tr>\n",
              "    <tr>\n",
              "      <th>3</th>\n",
              "      <td>0.052050</td>\n",
              "      <td>1.217855</td>\n",
              "      <td>1.286405</td>\n",
              "      <td>0.860330</td>\n",
              "      <td>urban</td>\n",
              "      <td>0</td>\n",
              "      <td>1</td>\n",
              "    </tr>\n",
              "    <tr>\n",
              "      <th>4</th>\n",
              "      <td>0.394182</td>\n",
              "      <td>-0.841614</td>\n",
              "      <td>1.281802</td>\n",
              "      <td>-0.215683</td>\n",
              "      <td>suburban</td>\n",
              "      <td>1</td>\n",
              "      <td>0</td>\n",
              "    </tr>\n",
              "  </tbody>\n",
              "</table>\n",
              "</div>"
            ],
            "text/plain": [
              "         TV     radio  newspaper     sales      Area  Area_suburban  Area_urban\n",
              "0  0.969852  0.981522   1.778945  1.552053     rural              0           0\n",
              "1 -1.197376  1.082808   0.669579 -0.696046     urban              0           1\n",
              "2 -1.516155  1.528463   1.783549 -0.907406     rural              0           0\n",
              "3  0.052050  1.217855   1.286405  0.860330     urban              0           1\n",
              "4  0.394182 -0.841614   1.281802 -0.215683  suburban              1           0"
            ]
          },
          "metadata": {
            "tags": []
          },
          "execution_count": 44
        }
      ]
    },
    {
      "cell_type": "code",
      "metadata": {
        "id": "scGvmp1z-w6o",
        "colab_type": "code",
        "colab": {}
      },
      "source": [
        "feature_cols = ['TV', 'radio', 'newspaper', 'Area_suburban', 'Area_urban']             # create a Python list of feature names\n",
        "X = data[feature_cols]  \n",
        "y = data.sales\n",
        "linreg = linear_reg(X,y)"
      ],
      "execution_count": 0,
      "outputs": []
    },
    {
      "cell_type": "code",
      "metadata": {
        "id": "k2n42kzc-w6v",
        "colab_type": "code",
        "outputId": "95db82cf-a526-49b2-9cbf-d8297dffe2bf",
        "colab": {
          "base_uri": "https://localhost:8080/",
          "height": 126
        }
      },
      "source": [
        "feature_cols.insert(0,'Intercept')\n",
        "coef = linreg.coef_.tolist()\n",
        "coef.insert(0, linreg.intercept_)\n",
        "\n",
        "eq1 = zip(feature_cols, coef)\n",
        "\n",
        "for c1,c2 in eq1:\n",
        "    print(c1,c2)"
      ],
      "execution_count": 46,
      "outputs": [
        {
          "output_type": "stream",
          "text": [
            "Intercept -0.00218535991975434\n",
            "TV 0.7691747677616421\n",
            "radio 0.5059681015391158\n",
            "newspaper 0.01109735332606343\n",
            "Area_suburban -0.031172284238361325\n",
            "Area_urban 0.04181960230726825\n"
          ],
          "name": "stdout"
        }
      ]
    },
    {
      "cell_type": "markdown",
      "metadata": {
        "id": "4p5s03nm-w6y",
        "colab_type": "text"
      },
      "source": [
        "__y = - 0.00218 + 0.7691 `*` TV + 0.505 `*` radio + 0.011 `*` newspaper - 0.0311 `*` Area_suburban + 0.0418 `*` Area_urban__<br/>\n",
        "How do we interpret the coefficients?<br/>\n",
        "- Holding all other variables fixed, being a **suburban** area is associated with an average **decrease** in Sales of 0.0311 widgets (as compared to the baseline level, which is rural).\n",
        "- Being an **urban** area is associated with an average **increase** in Sales of 0.0418 widgets (as compared to rural)."
      ]
    },
    {
      "cell_type": "markdown",
      "metadata": {
        "id": "zf1wMFeE-w6z",
        "colab_type": "text"
      },
      "source": [
        "<a id=section8></a>"
      ]
    }
  ]
}